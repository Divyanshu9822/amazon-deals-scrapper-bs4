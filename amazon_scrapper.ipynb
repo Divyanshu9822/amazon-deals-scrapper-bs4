{
 "cells": [
  {
   "cell_type": "markdown",
   "metadata": {},
   "source": [
    "<!DOCTYPE html>\n",
    "<html>\n",
    "<head>\n",
    "  <style>\n",
    "    .center {\n",
    "      display: flex;\n",
    "      justify-content: center;\n",
    "      align-items: center;\n",
    "    }\n",
    "  </style>\n",
    "</head>\n",
    "<body>\n",
    "  <div class=\"center\">\n",
    "    <img src=\"https://upload.wikimedia.org/wikipedia/commons/thumb/1/1f/Python_logo_01.svg/640px-Python_logo_01.svg.png\" alt=\"Python Logo\" width=\"150\">\n",
    "    <img src=\"https://purepng.com/public/uploads/large/amazon-logo-s3f.png\" alt=\"Amazon Logo\" width=\"400\">\n",
    "  </div>\n",
    "</body>\n",
    "</html>\n"
   ]
  },
  {
   "cell_type": "markdown",
   "metadata": {},
   "source": [
    "# **Amazon Deals Scraper**\n",
    "--------\n",
    "\n",
    "This script scrapes Amazon deals using BeautifulSoup and requests. It also uses the Pandas library to process the scraped data."
   ]
  },
  {
   "cell_type": "markdown",
   "metadata": {},
   "source": [
    "## Importing Required Libraries"
   ]
  },
  {
   "cell_type": "code",
   "execution_count": 71,
   "metadata": {},
   "outputs": [],
   "source": [
    "from bs4 import BeautifulSoup\n",
    "import requests\n",
    "import pandas as pd\n",
    "import numpy as np\n",
    "import os\n",
    "import random\n",
    "import string"
   ]
  },
  {
   "cell_type": "markdown",
   "metadata": {},
   "source": [
    "## Header and Amazon page URL"
   ]
  },
  {
   "cell_type": "code",
   "execution_count": 72,
   "metadata": {},
   "outputs": [],
   "source": [
    "HEADERS = {\n",
    "    \"User-Agent\": \"Mozilla/5.0 (Macintosh; Intel Mac OS X 10_15_7) AppleWebKit/537.36 (KHTML, like Gecko) Chrome/118.0.0.0 Safari/537.36\",\n",
    "    \"Accept-Language\": \"en-US, en;q=0.5\",\n",
    "}\n",
    "\n",
    "URL = \"https://www.amazon.in/deal/81486f94?showVariations=true&pf_rd_r=WETZ6TSPT47BDG8ADXYS&pf_rd_t=Events&pf_rd_i=greatindianfestival&pf_rd_p=315dfba2-4182-43a7-9ab8-5c38c7bd7a91&pf_rd_s=slot-7&ref=dlx_great_gd_dcl_tlt_0_81486f94_dt_sl7_91\""
   ]
  },
  {
   "cell_type": "markdown",
   "metadata": {},
   "source": [
    "## Making request to amazon url"
   ]
  },
  {
   "cell_type": "code",
   "execution_count": 73,
   "metadata": {},
   "outputs": [],
   "source": [
    "webpage = requests.get(URL, headers=HEADERS)"
   ]
  },
  {
   "cell_type": "code",
   "execution_count": 74,
   "metadata": {},
   "outputs": [],
   "source": [
    "soup = BeautifulSoup(webpage.content, \"html.parser\")"
   ]
  },
  {
   "cell_type": "markdown",
   "metadata": {},
   "source": [
    "## Scrapped content from URL"
   ]
  },
  {
   "cell_type": "code",
   "execution_count": null,
   "metadata": {},
   "outputs": [],
   "source": [
    "soup"
   ]
  },
  {
   "cell_type": "markdown",
   "metadata": {},
   "source": [
    "## Looking for anchor tags having products URL in href"
   ]
  },
  {
   "cell_type": "code",
   "execution_count": 76,
   "metadata": {},
   "outputs": [],
   "source": [
    "anchor_tags = soup.find_all(\n",
    "    \"a\", attrs={\"class\": \"a-size-base a-color-base a-link-normal a-text-normal\"}\n",
    ")"
   ]
  },
  {
   "cell_type": "markdown",
   "metadata": {},
   "source": [
    "## Processing products link"
   ]
  },
  {
   "cell_type": "code",
   "execution_count": 78,
   "metadata": {},
   "outputs": [],
   "source": [
    "product_links = []\n",
    "product_base_url = \"https://www.amazon.in/\"\n",
    "\n",
    "for anchor_tag in anchor_tags:\n",
    "    product_links.append(product_base_url + anchor_tag[\"href\"])"
   ]
  },
  {
   "cell_type": "code",
   "execution_count": 79,
   "metadata": {},
   "outputs": [
    {
     "data": {
      "text/plain": [
       "['https://www.amazon.in//Fire-Boltt-Bluetooth-Calling-Assistance-Resolution/dp/B0BF57RN3K?ref_=Oct_DLandingS_D_81486f94_0',\n",
       " 'https://www.amazon.in//Fire-Boltt-Smartwatch-Resolution-Connection-Assistance/dp/B0B3N7LR6K?ref_=Oct_DLandingS_D_81486f94_1',\n",
       " 'https://www.amazon.in//beatXP-Flux-Display-Bluetooth-Tracking/dp/B0C4T91SNK?ref_=Oct_DLandingS_D_81486f94_2',\n",
       " 'https://www.amazon.in//Fire-Boltt-Bluetooth-Smartwatch-Assistant-Monitoring/dp/B0BRKXXPZ7?ref_=Oct_DLandingS_D_81486f94_3',\n",
       " 'https://www.amazon.in//Fire-Boltt-Phoenix-Bluetooth-Calling-Monitoring/dp/B0B3RRWSF6?ref_=Oct_DLandingS_D_81486f94_4',\n",
       " 'https://www.amazon.in//beatXP-Bluetooth-Assistant-Monitoring-Charging/dp/B0BRFX19Y1?ref_=Oct_DLandingS_D_81486f94_5',\n",
       " 'https://www.amazon.in//Noise-ColorFit-Bluetooth-instacharge-Functional/dp/B0BGSV43WY?ref_=Oct_DLandingS_D_81486f94_6',\n",
       " 'https://www.amazon.in//boAt-Smartwatch-Display-Bluetooth-Monitoring/dp/B0CBPL63B3?ref_=Oct_DLandingS_D_81486f94_7',\n",
       " 'https://www.amazon.in//Fire-Boltt-Ninja-Smartwatch-Sports-Tracking/dp/B09YV4RG4D?ref_=Oct_DLandingS_D_81486f94_8',\n",
       " 'https://www.amazon.in//Fire-Boltt-Bluetooth-Calling-Assistance-Monitoring/dp/B0B854R7NS?ref_=Oct_DLandingS_D_81486f94_9',\n",
       " 'https://www.amazon.in//Fire-Boltt-Invincible-Smartwatch-Bluetooth-Connection/dp/B0BRMYD4XZ?ref_=Oct_DLandingS_D_81486f94_10',\n",
       " 'https://www.amazon.in//beatXP-Display-Bluetooth-Monitoring-Assistant/dp/B0CDSCM9BN?ref_=Oct_DLandingS_D_81486f94_11',\n",
       " 'https://www.amazon.in//Fire-Boltt-Smartwatch-Bluetooth-Calling-Assistance/dp/B09YV4MW2T?ref_=Oct_DLandingS_D_81486f94_12',\n",
       " 'https://www.amazon.in//boAt-Smartwatch-Display-Bluetooth-Monitoring/dp/B0CCDJ1FBY?ref_=Oct_DLandingS_D_81486f94_13',\n",
       " 'https://www.amazon.in//Noise-Smartwatch-Display-Stainless-Metallic/dp/B0C4Q6DMT6?ref_=Oct_DLandingS_D_81486f94_14',\n",
       " 'https://www.amazon.in//Fire-Boltt-Stainless-Bluetooth-Smartwatch-Monitoring/dp/B0BY2PWDFQ?ref_=Oct_DLandingS_D_81486f94_15',\n",
       " 'https://www.amazon.in//boAt-Wave-Lite-Smartwatch-Activity/dp/B09V12K8NT?ref_=Oct_DLandingS_D_81486f94_16',\n",
       " 'https://www.amazon.in//Fire-Boltt-Launched-Display-Bluetooth-Assistance/dp/B0C497MSQN?ref_=Oct_DLandingS_D_81486f94_17',\n",
       " 'https://www.amazon.in//Fire-Boltt-Stainless-Advanced-Bluetooth-Resistant/dp/B0CG1WV27C?ref_=Oct_DLandingS_D_81486f94_18',\n",
       " 'https://www.amazon.in//Fire-Boltt-Smartwatch-Resolution-Connection-Assistance/dp/B0B3NB9Y3S?ref_=Oct_DLandingS_D_81486f94_19',\n",
       " 'https://www.amazon.in//Fire-Boltt-Bluetooth-Calling-Assistance-Resolution/dp/B0BF54LXW6?ref_=Oct_DLandingS_D_81486f94_20',\n",
       " 'https://www.amazon.in//Noise-Bluetooth-Calling-Tracking-Detection/dp/B0B5LW5DFQ?ref_=Oct_DLandingS_D_81486f94_21',\n",
       " 'https://www.amazon.in//boAt-Wave-Call-Dedicated-Multi-Sport/dp/B0B5B6PQCT?ref_=Oct_DLandingS_D_81486f94_22',\n",
       " 'https://www.amazon.in//Fire-Boltt-Bluetooth-Calling-Assistance-Resolution/dp/B0BF54972T?ref_=Oct_DLandingS_D_81486f94_23',\n",
       " 'https://www.amazon.in//Fire-Boltt-Bluetooth-Smartwatch-Assistant-Monitoring/dp/B0BRKYMS7Y?ref_=Oct_DLandingS_D_81486f94_24',\n",
       " 'https://www.amazon.in//Fire-Boltt-Phoenix-Bluetooth-Calling-Monitoring/dp/B0B3RS9DNF?ref_=Oct_DLandingS_D_81486f94_25',\n",
       " 'https://www.amazon.in//Fire-Boltt-Bluetooth-Smartwatch-Assistant-Monitoring/dp/B0BRKZG8GH?ref_=Oct_DLandingS_D_81486f94_26',\n",
       " 'https://www.amazon.in//Noise-Bluetooth-Calling-Tracking-Detection/dp/B0B5LVS732?ref_=Oct_DLandingS_D_81486f94_27',\n",
       " 'https://www.amazon.in//Fire-Boltt-Stainless-Bluetooth-Monitoring-Assistant/dp/B0CG1X67V1?ref_=Oct_DLandingS_D_81486f94_28',\n",
       " 'https://www.amazon.in//Fire-Boltt-Smartwatch-Resolution-Connection-Assistance/dp/B0B3N932ZM?ref_=Oct_DLandingS_D_81486f94_29']"
      ]
     },
     "execution_count": 79,
     "metadata": {},
     "output_type": "execute_result"
    }
   ],
   "source": [
    "product_links"
   ]
  },
  {
   "cell_type": "markdown",
   "metadata": {},
   "source": [
    "## Directory for storing products images"
   ]
  },
  {
   "cell_type": "code",
   "execution_count": 93,
   "metadata": {},
   "outputs": [],
   "source": [
    "image_directory = 'product_images'\n",
    "os.makedirs(image_directory, exist_ok=True)"
   ]
  },
  {
   "cell_type": "markdown",
   "metadata": {},
   "source": [
    "## Functions to get image, title, price, rating etc-"
   ]
  },
  {
   "cell_type": "code",
   "execution_count": 94,
   "metadata": {},
   "outputs": [],
   "source": [
    "def generate_random_filename(length=8):\n",
    "    characters = string.ascii_letters + string.digits\n",
    "    return ''.join(random.choice(characters) for _ in range(length))\n",
    "\n",
    "def download_image(image_url, image_name):\n",
    "    response = requests.get(image_url)\n",
    "    if response.status_code == 200:\n",
    "        with open(os.path.join(image_directory, f'{image_name}.png'), 'wb') as file:\n",
    "            file.write(response.content)\n",
    "\n",
    "def get_title(soup):\n",
    "    try: \n",
    "        title = soup.find(\"span\", attrs={\"id\":'productTitle'})\n",
    "        title_value = title.text\n",
    "        title_string = title_value.strip()\n",
    "\n",
    "    except AttributeError:\n",
    "        title_string = \"\"\n",
    "\n",
    "    return title_string\n",
    "\n",
    "def get_price(soup):\n",
    "    try:\n",
    "        price = soup.find('span', attrs={'class':'a-price-whole'}).text[:-1]\n",
    "    except AttributeError:\n",
    "        price = \"\"\n",
    "\n",
    "    return price\n",
    "\n",
    "def get_rating(soup):\n",
    "    try:\n",
    "        rating = soup.find('a', attrs={'class':'a-popover-trigger a-declarative'}).text.split()[0]\n",
    "    except AttributeError:\n",
    "        rating = \"\"\n",
    "\n",
    "    return rating\n",
    "\n",
    "def get_rating_count(soup):\n",
    "    try:\n",
    "        review_count = soup.find('span', attrs={'id':'acrCustomerReviewText'}).text.split()[0]\n",
    "    except AttributeError:\n",
    "        review_count = \"\"\n",
    "\n",
    "    return review_count"
   ]
  },
  {
   "cell_type": "markdown",
   "metadata": {},
   "source": [
    "## Dictionary to store product details"
   ]
  },
  {
   "cell_type": "code",
   "execution_count": 95,
   "metadata": {},
   "outputs": [],
   "source": [
    "dict = {\"title\": [], \"price_in_rupees\": [], \"rating\": [], \"rating_count\": [], \"product_image_name\": []}\n"
   ]
  },
  {
   "cell_type": "markdown",
   "metadata": {},
   "source": [
    "## Processing the scrapped content using functions"
   ]
  },
  {
   "cell_type": "markdown",
   "metadata": {},
   "source": [
    "This loop iterates over all product links capturturing the needed data and for images it firts generates a random name and downloads the image as `png` and store the name of image file in dictionary."
   ]
  },
  {
   "cell_type": "code",
   "execution_count": 96,
   "metadata": {},
   "outputs": [],
   "source": [
    "for product_link in product_links:\n",
    "    product_page = requests.get(product_link, headers=HEADERS)\n",
    "    product_soup = BeautifulSoup(product_page.content, 'html.parser')\n",
    "\n",
    "    title = get_title(product_soup)\n",
    "    price = get_price(product_soup)\n",
    "    rating = get_rating(product_soup)\n",
    "    rating_count = get_rating_count(product_soup)\n",
    "    product_image_link = product_soup.find('img', attrs={'id': 'landingImage'})['src']\n",
    "\n",
    "    image_name = generate_random_filename()\n",
    "    download_image(product_image_link, image_name)\n",
    "\n",
    "    dict['title'].append(title)\n",
    "    dict['price_in_rupees'].append(price)\n",
    "    dict['rating'].append(rating)\n",
    "    dict['rating_count'].append(rating_count)\n",
    "    dict['product_image_name'].append(image_name)"
   ]
  },
  {
   "cell_type": "markdown",
   "metadata": {},
   "source": [
    "## Converting `dict` to dataframe"
   ]
  },
  {
   "cell_type": "code",
   "execution_count": 99,
   "metadata": {},
   "outputs": [],
   "source": [
    "amazon_deals_df = pd.DataFrame.from_dict(dict)\n",
    "amazon_deals_df['title'].replace('', np.nan, inplace=True)\n",
    "amazon_deals_df = amazon_deals_df.dropna(subset=['title'])"
   ]
  },
  {
   "cell_type": "markdown",
   "metadata": {},
   "source": [
    "## Saving data in CSV"
   ]
  },
  {
   "cell_type": "code",
   "execution_count": 100,
   "metadata": {},
   "outputs": [],
   "source": [
    "amazon_deals_df.to_csv(\"amazon_data.csv\", header=True, index=False)"
   ]
  },
  {
   "cell_type": "code",
   "execution_count": 86,
   "metadata": {},
   "outputs": [
    {
     "data": {
      "text/html": [
       "<div>\n",
       "<style scoped>\n",
       "    .dataframe tbody tr th:only-of-type {\n",
       "        vertical-align: middle;\n",
       "    }\n",
       "\n",
       "    .dataframe tbody tr th {\n",
       "        vertical-align: top;\n",
       "    }\n",
       "\n",
       "    .dataframe thead th {\n",
       "        text-align: right;\n",
       "    }\n",
       "</style>\n",
       "<table border=\"1\" class=\"dataframe\">\n",
       "  <thead>\n",
       "    <tr style=\"text-align: right;\">\n",
       "      <th></th>\n",
       "      <th>title</th>\n",
       "      <th>price_in_rupees</th>\n",
       "      <th>rating</th>\n",
       "      <th>rating_count</th>\n",
       "      <th>product_image_name</th>\n",
       "    </tr>\n",
       "  </thead>\n",
       "  <tbody>\n",
       "    <tr>\n",
       "      <th>0</th>\n",
       "      <td>Fire-Boltt Ninja Call Pro Plus 1.83\" Smart Wat...</td>\n",
       "      <td>1,099</td>\n",
       "      <td>4.2</td>\n",
       "      <td>56,335</td>\n",
       "      <td>FHldTzqb</td>\n",
       "    </tr>\n",
       "    <tr>\n",
       "      <th>1</th>\n",
       "      <td>Fire-Boltt Visionary 1.78\" AMOLED Bluetooth Ca...</td>\n",
       "      <td>2,199</td>\n",
       "      <td>4.2</td>\n",
       "      <td>35,705</td>\n",
       "      <td>GgOfUqfm</td>\n",
       "    </tr>\n",
       "    <tr>\n",
       "      <th>2</th>\n",
       "      <td>beatXP Flux 1.45\" (3.6 cm) Ultra HD Display Bl...</td>\n",
       "      <td>1,099</td>\n",
       "      <td>4.0</td>\n",
       "      <td>1,790</td>\n",
       "      <td>dwiLbmJt</td>\n",
       "    </tr>\n",
       "    <tr>\n",
       "      <th>3</th>\n",
       "      <td>Fire-Boltt Phoenix Pro 1.39\" Bluetooth Calling...</td>\n",
       "      <td>1,199</td>\n",
       "      <td>4.2</td>\n",
       "      <td>101,344</td>\n",
       "      <td>sxpsATxb</td>\n",
       "    </tr>\n",
       "    <tr>\n",
       "      <th>4</th>\n",
       "      <td>Fire-Boltt Phoenix Smart Watch with Bluetooth ...</td>\n",
       "      <td>1,299</td>\n",
       "      <td>4.2</td>\n",
       "      <td>101,344</td>\n",
       "      <td>9EcWoKQw</td>\n",
       "    </tr>\n",
       "    <tr>\n",
       "      <th>5</th>\n",
       "      <td>beatXP Marv Neo 1.85” (4.6 cm) Display, Blueto...</td>\n",
       "      <td>999</td>\n",
       "      <td>4.1</td>\n",
       "      <td>8,354</td>\n",
       "      <td>numFubjv</td>\n",
       "    </tr>\n",
       "    <tr>\n",
       "      <th>6</th>\n",
       "      <td>Noise ColorFit Pro 4 Alpha 1.78\" AMOLED Displa...</td>\n",
       "      <td>2,299</td>\n",
       "      <td>4.0</td>\n",
       "      <td>3,775</td>\n",
       "      <td>vbgk4knA</td>\n",
       "    </tr>\n",
       "    <tr>\n",
       "      <th>7</th>\n",
       "      <td>boAt Wave Sigma Smartwatch with 2.01\" HD Displ...</td>\n",
       "      <td>1,099</td>\n",
       "      <td>4.0</td>\n",
       "      <td>1,494</td>\n",
       "      <td>EhvVfQdJ</td>\n",
       "    </tr>\n",
       "    <tr>\n",
       "      <th>8</th>\n",
       "      <td>Fire-Boltt Ninja 3 Smartwatch Full Touch 1.69 ...</td>\n",
       "      <td>1,099</td>\n",
       "      <td>4.1</td>\n",
       "      <td>52,024</td>\n",
       "      <td>Cg6L9fM9</td>\n",
       "    </tr>\n",
       "    <tr>\n",
       "      <th>9</th>\n",
       "      <td>Fire-Boltt Ninja Call Pro Smart Watch Dual Chi...</td>\n",
       "      <td>1,049</td>\n",
       "      <td>4.2</td>\n",
       "      <td>32,071</td>\n",
       "      <td>Ca5vKvpH</td>\n",
       "    </tr>\n",
       "    <tr>\n",
       "      <th>10</th>\n",
       "      <td>Fire-Boltt Invincible Plus 1.43\" AMOLED Displa...</td>\n",
       "      <td>4,499</td>\n",
       "      <td>4.2</td>\n",
       "      <td>11,526</td>\n",
       "      <td>0V4yV8L7</td>\n",
       "    </tr>\n",
       "    <tr>\n",
       "      <th>11</th>\n",
       "      <td>beatXP Flare Pro 1.39” HD Display Bluetooth Ca...</td>\n",
       "      <td>999</td>\n",
       "      <td>3.9</td>\n",
       "      <td>625</td>\n",
       "      <td>jkqRXmeD</td>\n",
       "    </tr>\n",
       "    <tr>\n",
       "      <th>12</th>\n",
       "      <td>Fire-Boltt India's No 1 Smartwatch Brand Talk ...</td>\n",
       "      <td>1,299</td>\n",
       "      <td>4.2</td>\n",
       "      <td>49,792</td>\n",
       "      <td>yCE00Rmr</td>\n",
       "    </tr>\n",
       "    <tr>\n",
       "      <th>13</th>\n",
       "      <td>boAt Wave Sigma Smartwatch with 2.01\" HD Displ...</td>\n",
       "      <td>1,199</td>\n",
       "      <td>4.0</td>\n",
       "      <td>1,494</td>\n",
       "      <td>syc54S7N</td>\n",
       "    </tr>\n",
       "    <tr>\n",
       "      <th>14</th>\n",
       "      <td>Noise Halo Plus Elite Edition Smartwatch with ...</td>\n",
       "      <td>3,299</td>\n",
       "      <td>3.9</td>\n",
       "      <td>4,012</td>\n",
       "      <td>rWodPlwY</td>\n",
       "    </tr>\n",
       "    <tr>\n",
       "      <th>15</th>\n",
       "      <td>Fire-Boltt Phoenix Ultra Luxury Stainless Stee...</td>\n",
       "      <td>1,599</td>\n",
       "      <td>4.2</td>\n",
       "      <td>101,344</td>\n",
       "      <td>7p2FZv2S</td>\n",
       "    </tr>\n",
       "    <tr>\n",
       "      <th>16</th>\n",
       "      <td>boAt Wave Lite Smart Watch with 1.69\" HD Displ...</td>\n",
       "      <td>999</td>\n",
       "      <td>3.9</td>\n",
       "      <td>25,406</td>\n",
       "      <td>CA8Y5CPM</td>\n",
       "    </tr>\n",
       "    <tr>\n",
       "      <th>17</th>\n",
       "      <td>Fire-Boltt Newly Launched Ninja Call Pro Max 2...</td>\n",
       "      <td>1,349</td>\n",
       "      <td>4.3</td>\n",
       "      <td>9,189</td>\n",
       "      <td>gsZ4pCTm</td>\n",
       "    </tr>\n",
       "    <tr>\n",
       "      <th>18</th>\n",
       "      <td>Fire-Boltt Ninja Call Encore Stainless Steel S...</td>\n",
       "      <td>1,599</td>\n",
       "      <td>4.2</td>\n",
       "      <td>567</td>\n",
       "      <td>A28R9FwN</td>\n",
       "    </tr>\n",
       "    <tr>\n",
       "      <th>19</th>\n",
       "      <td>Fire-Boltt Visionary 1.78\" AMOLED Bluetooth Ca...</td>\n",
       "      <td>2,199</td>\n",
       "      <td>4.2</td>\n",
       "      <td>35,705</td>\n",
       "      <td>a0tNshgm</td>\n",
       "    </tr>\n",
       "    <tr>\n",
       "      <th>20</th>\n",
       "      <td>Fire-Boltt Ninja Call Pro Plus 1.83\" Smart Wat...</td>\n",
       "      <td>1,099</td>\n",
       "      <td>4.2</td>\n",
       "      <td>56,335</td>\n",
       "      <td>jGiNf2e0</td>\n",
       "    </tr>\n",
       "    <tr>\n",
       "      <th>21</th>\n",
       "      <td>Noise Pulse Go Buzz Smart Watch with Advanced ...</td>\n",
       "      <td>1,199</td>\n",
       "      <td>4.1</td>\n",
       "      <td>25,317</td>\n",
       "      <td>JBAgjU2W</td>\n",
       "    </tr>\n",
       "    <tr>\n",
       "      <th>22</th>\n",
       "      <td>boAt Wave Call Smart Watch with Bluetooth Call...</td>\n",
       "      <td>1,599</td>\n",
       "      <td>3.9</td>\n",
       "      <td>37,322</td>\n",
       "      <td>LSdblRZz</td>\n",
       "    </tr>\n",
       "    <tr>\n",
       "      <th>23</th>\n",
       "      <td>Fire-Boltt Ninja Call Pro Plus 1.83\" Smart Wat...</td>\n",
       "      <td>1,099</td>\n",
       "      <td>4.2</td>\n",
       "      <td>56,335</td>\n",
       "      <td>8xagv05t</td>\n",
       "    </tr>\n",
       "    <tr>\n",
       "      <th>24</th>\n",
       "      <td>Fire-Boltt Phoenix Pro 1.39\" Bluetooth Calling...</td>\n",
       "      <td>1,199</td>\n",
       "      <td>4.2</td>\n",
       "      <td>101,344</td>\n",
       "      <td>mp6eA99E</td>\n",
       "    </tr>\n",
       "    <tr>\n",
       "      <th>25</th>\n",
       "      <td>Fire-Boltt Phoenix Smart Watch with Bluetooth ...</td>\n",
       "      <td>1,299</td>\n",
       "      <td>4.2</td>\n",
       "      <td>101,344</td>\n",
       "      <td>nOuuykXI</td>\n",
       "    </tr>\n",
       "    <tr>\n",
       "      <th>26</th>\n",
       "      <td>Fire-Boltt Phoenix Pro 1.39\" Bluetooth Calling...</td>\n",
       "      <td>1,199</td>\n",
       "      <td>4.2</td>\n",
       "      <td>101,344</td>\n",
       "      <td>gYo9Oz6y</td>\n",
       "    </tr>\n",
       "    <tr>\n",
       "      <th>27</th>\n",
       "      <td>Noise Pulse Go Buzz Smart Watch with Advanced ...</td>\n",
       "      <td>1,199</td>\n",
       "      <td>4.1</td>\n",
       "      <td>25,317</td>\n",
       "      <td>TJIg5f8i</td>\n",
       "    </tr>\n",
       "    <tr>\n",
       "      <th>28</th>\n",
       "      <td>Fire-Boltt Talk 2 Pro Ultra 1.39\" Round Displa...</td>\n",
       "      <td>1,599</td>\n",
       "      <td>4.2</td>\n",
       "      <td>49,792</td>\n",
       "      <td>ONsPxyb2</td>\n",
       "    </tr>\n",
       "    <tr>\n",
       "      <th>29</th>\n",
       "      <td>Fire-Boltt Visionary 1.78\" AMOLED Bluetooth Ca...</td>\n",
       "      <td>2,199</td>\n",
       "      <td>4.2</td>\n",
       "      <td>35,705</td>\n",
       "      <td>hVgNbFrE</td>\n",
       "    </tr>\n",
       "  </tbody>\n",
       "</table>\n",
       "</div>"
      ],
      "text/plain": [
       "                                                title price_in_rupees rating  \\\n",
       "0   Fire-Boltt Ninja Call Pro Plus 1.83\" Smart Wat...           1,099    4.2   \n",
       "1   Fire-Boltt Visionary 1.78\" AMOLED Bluetooth Ca...           2,199    4.2   \n",
       "2   beatXP Flux 1.45\" (3.6 cm) Ultra HD Display Bl...           1,099    4.0   \n",
       "3   Fire-Boltt Phoenix Pro 1.39\" Bluetooth Calling...           1,199    4.2   \n",
       "4   Fire-Boltt Phoenix Smart Watch with Bluetooth ...           1,299    4.2   \n",
       "5   beatXP Marv Neo 1.85” (4.6 cm) Display, Blueto...             999    4.1   \n",
       "6   Noise ColorFit Pro 4 Alpha 1.78\" AMOLED Displa...           2,299    4.0   \n",
       "7   boAt Wave Sigma Smartwatch with 2.01\" HD Displ...           1,099    4.0   \n",
       "8   Fire-Boltt Ninja 3 Smartwatch Full Touch 1.69 ...           1,099    4.1   \n",
       "9   Fire-Boltt Ninja Call Pro Smart Watch Dual Chi...           1,049    4.2   \n",
       "10  Fire-Boltt Invincible Plus 1.43\" AMOLED Displa...           4,499    4.2   \n",
       "11  beatXP Flare Pro 1.39” HD Display Bluetooth Ca...             999    3.9   \n",
       "12  Fire-Boltt India's No 1 Smartwatch Brand Talk ...           1,299    4.2   \n",
       "13  boAt Wave Sigma Smartwatch with 2.01\" HD Displ...           1,199    4.0   \n",
       "14  Noise Halo Plus Elite Edition Smartwatch with ...           3,299    3.9   \n",
       "15  Fire-Boltt Phoenix Ultra Luxury Stainless Stee...           1,599    4.2   \n",
       "16  boAt Wave Lite Smart Watch with 1.69\" HD Displ...             999    3.9   \n",
       "17  Fire-Boltt Newly Launched Ninja Call Pro Max 2...           1,349    4.3   \n",
       "18  Fire-Boltt Ninja Call Encore Stainless Steel S...           1,599    4.2   \n",
       "19  Fire-Boltt Visionary 1.78\" AMOLED Bluetooth Ca...           2,199    4.2   \n",
       "20  Fire-Boltt Ninja Call Pro Plus 1.83\" Smart Wat...           1,099    4.2   \n",
       "21  Noise Pulse Go Buzz Smart Watch with Advanced ...           1,199    4.1   \n",
       "22  boAt Wave Call Smart Watch with Bluetooth Call...           1,599    3.9   \n",
       "23  Fire-Boltt Ninja Call Pro Plus 1.83\" Smart Wat...           1,099    4.2   \n",
       "24  Fire-Boltt Phoenix Pro 1.39\" Bluetooth Calling...           1,199    4.2   \n",
       "25  Fire-Boltt Phoenix Smart Watch with Bluetooth ...           1,299    4.2   \n",
       "26  Fire-Boltt Phoenix Pro 1.39\" Bluetooth Calling...           1,199    4.2   \n",
       "27  Noise Pulse Go Buzz Smart Watch with Advanced ...           1,199    4.1   \n",
       "28  Fire-Boltt Talk 2 Pro Ultra 1.39\" Round Displa...           1,599    4.2   \n",
       "29  Fire-Boltt Visionary 1.78\" AMOLED Bluetooth Ca...           2,199    4.2   \n",
       "\n",
       "   rating_count product_image_name  \n",
       "0        56,335           FHldTzqb  \n",
       "1        35,705           GgOfUqfm  \n",
       "2         1,790           dwiLbmJt  \n",
       "3       101,344           sxpsATxb  \n",
       "4       101,344           9EcWoKQw  \n",
       "5         8,354           numFubjv  \n",
       "6         3,775           vbgk4knA  \n",
       "7         1,494           EhvVfQdJ  \n",
       "8        52,024           Cg6L9fM9  \n",
       "9        32,071           Ca5vKvpH  \n",
       "10       11,526           0V4yV8L7  \n",
       "11          625           jkqRXmeD  \n",
       "12       49,792           yCE00Rmr  \n",
       "13        1,494           syc54S7N  \n",
       "14        4,012           rWodPlwY  \n",
       "15      101,344           7p2FZv2S  \n",
       "16       25,406           CA8Y5CPM  \n",
       "17        9,189           gsZ4pCTm  \n",
       "18          567           A28R9FwN  \n",
       "19       35,705           a0tNshgm  \n",
       "20       56,335           jGiNf2e0  \n",
       "21       25,317           JBAgjU2W  \n",
       "22       37,322           LSdblRZz  \n",
       "23       56,335           8xagv05t  \n",
       "24      101,344           mp6eA99E  \n",
       "25      101,344           nOuuykXI  \n",
       "26      101,344           gYo9Oz6y  \n",
       "27       25,317           TJIg5f8i  \n",
       "28       49,792           ONsPxyb2  \n",
       "29       35,705           hVgNbFrE  "
      ]
     },
     "execution_count": 86,
     "metadata": {},
     "output_type": "execute_result"
    }
   ],
   "source": [
    "amazon_deals_df"
   ]
  },
  {
   "cell_type": "code",
   "execution_count": 102,
   "metadata": {},
   "outputs": [
    {
     "name": "stdout",
     "output_type": "stream",
     "text": [
      "amazon_data.csv       amazon_scrapper.ipynb \u001b[34mproduct_images\u001b[m\u001b[m\n"
     ]
    }
   ],
   "source": [
    "!ls"
   ]
  },
  {
   "cell_type": "code",
   "execution_count": 107,
   "metadata": {},
   "outputs": [
    {
     "data": {
      "text/plain": [
       "['GpiTgVow.png',\n",
       " '7hHpKKZ4.png',\n",
       " 'jS1Wurdi.png',\n",
       " 'NFHqzDA3.png',\n",
       " 'iLpMTuvp.png',\n",
       " 'axumItuH.png',\n",
       " 't5qcN05X.png',\n",
       " 'sssgZkQA.png',\n",
       " 'DkNHdOPM.png',\n",
       " 'YynGucRa.png',\n",
       " '5TcXE03x.png',\n",
       " 'G4T67rj8.png',\n",
       " 'Z14X7aNo.png',\n",
       " 'pnkw9G8y.png',\n",
       " 'uS6raPxV.png',\n",
       " 'o5A1ClRB.png',\n",
       " 'SiHiB1AZ.png',\n",
       " 'dnDKL7lE.png',\n",
       " 'shDr0QQi.png',\n",
       " '508lwuQL.png',\n",
       " 'JpUx4JxY.png',\n",
       " 'osH6oDYH.png',\n",
       " 'VV1gAStm.png',\n",
       " 'luYMWXYM.png',\n",
       " 'nZKFf34h.png',\n",
       " 'cQVxWaDD.png',\n",
       " 'NDWUDJl3.png',\n",
       " 'ee61neql.png',\n",
       " '6QXFy5kf.png',\n",
       " '6t36JItE.png']"
      ]
     },
     "execution_count": 107,
     "metadata": {},
     "output_type": "execute_result"
    }
   ],
   "source": [
    "os.listdir('product_images/')"
   ]
  },
  {
   "cell_type": "markdown",
   "metadata": {},
   "source": [
    "---\n",
    "## Conclusion\n",
    "\n",
    "Thank you for taking the time to explore this notebook! If you have any questions or suggestions for improvement, please feel free to reach out.\n",
    "\n",
    "**Happy coding!**\n"
   ]
  }
 ],
 "metadata": {
  "kernelspec": {
   "display_name": "Python 3",
   "language": "python",
   "name": "python3"
  },
  "language_info": {
   "codemirror_mode": {
    "name": "ipython",
    "version": 3
   },
   "file_extension": ".py",
   "mimetype": "text/x-python",
   "name": "python",
   "nbconvert_exporter": "python",
   "pygments_lexer": "ipython3",
   "version": "3.11.3"
  }
 },
 "nbformat": 4,
 "nbformat_minor": 2
}
